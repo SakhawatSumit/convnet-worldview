{
 "cells": [
  {
   "cell_type": "markdown",
   "metadata": {
    "collapsed": true
   },
   "source": [
    "# Lasagne Conv Net on Media Eval 2015 Placing Task - Locale"
   ]
  },
  {
   "cell_type": "code",
   "execution_count": 2,
   "metadata": {
    "collapsed": false
   },
   "outputs": [],
   "source": [
    "# Import Python libraries\n",
    "import numpy as np\n",
    "import theano\n",
    "import theano.tensor as Tensor\n",
    "import lasagne\n",
    "import time\n",
    "\n",
    "# allows plots to show inline in ipython notebook\n",
    "%matplotlib inline\n",
    "%load_ext autoreload\n",
    "%autoreload 2"
   ]
  },
  {
   "cell_type": "code",
   "execution_count": 10,
   "metadata": {
    "collapsed": false
   },
   "outputs": [],
   "source": [
    "# Import own modules\n",
    "import data_utils, visualize\n",
    "import lasagne_model_predict_country as cnn_model"
   ]
  },
  {
   "cell_type": "code",
   "execution_count": 4,
   "metadata": {
    "collapsed": false
   },
   "outputs": [],
   "source": [
    "# Model hyperparameters\n",
    "cnn_architecture = \"complex_cnn\"\n",
    "num_filters = 32\n",
    "filter_width = 3 # can be integer or tuple\n",
    "pool_width = 2 \n",
    "stride_width = 1 # can be integer or tuple\n",
    "padding = 'full'  # can be integer or tuple or 'full', 'same', 'valid'\n",
    "hidden_size = 256 # size of hidden layer of neurons\n",
    "dropout_p = 0.0\n",
    "# lr_decay = 0.995\n",
    "reg_strength = 0\n",
    "# grad_clip = 10\n",
    "\n",
    "# Optimization hyperparams\n",
    "# LEARNING_RATE = 1e-2\n",
    "LEARNING_RATE = 0.045\n",
    "\n",
    "USE_OPTIMIZER = \"nesterov_momentum\"\n",
    "# USE_OPTIMIZER = \"adam\"\n",
    "# (1) Nesterov Momentum\n",
    "MOMENTUM = 0.9\n",
    "# (2) Adam\n",
    "beta1=0.9\n",
    "beta2=0.999\n",
    "epsilon=1e-08\n",
    "# Optimizer config\n",
    "theano.config.optimizer='fast_compile'\n",
    "theano.config.exception_verbosity='high'\n",
    "\n",
    "# Training parameters\n",
    "batchsize = 500\n",
    "num_epochs = 20\n",
    "record_per_iter = True  # save train and val loss/accuracy after each batch runthrough"
   ]
  },
  {
   "cell_type": "code",
   "execution_count": 5,
   "metadata": {
    "collapsed": false
   },
   "outputs": [
    {
     "name": "stdout",
     "output_type": "stream",
     "text": [
      "('Data Set:', 'subset_48by32_5')\n",
      "('Num classes:', 5)\n",
      "Batches: 0\n",
      "Preparing Data Set....\n",
      "('X_train', (24000, 3, 48, 32))\n",
      "('y_train', (24000,))\n",
      "('X_val', (3000, 3, 48, 32))\n",
      "('y_val', (3000,))\n",
      "('X_test', (3000, 3, 48, 32))\n",
      "('y_test', (3000,))\n"
     ]
    }
   ],
   "source": [
    "# Load Data Set\n",
    "\n",
    "# DATA_BATCH = '000_small_'\n",
    "# DATA_SIZE = '48by32'\n",
    "# DATA_SET = DATA_BATCH + DATA_SIZE\n",
    "# NUM_CLASSES = 5\n",
    "\n",
    "DATA_SET = 'subset_48by32_5'\n",
    "NUM_CLASSES = 5\n",
    "NUM_BATCHES = 6\n",
    "USE_BATCH = 0\n",
    "\n",
    "print ('Data Set:', DATA_SET)\n",
    "print ('Num classes:', NUM_CLASSES)\n",
    "print ('Batches: {}'.format(USE_BATCH))\n",
    "print ('Preparing Data Set....')\n",
    "\n",
    "X_input_filename = 'data_maps/' + DATA_SET + '/x_input_' + str(USE_BATCH) + '.npy'\n",
    "Y_output_filename = 'data_maps/' + DATA_SET + '/y_labels_' + str(USE_BATCH) + '.npy'\n",
    "\n",
    "X = data_utils.load_npy_file(X_input_filename)\n",
    "Y = data_utils.load_npy_file(Y_output_filename)\n",
    "# print 'X: {}'.format(X.shape)\n",
    "# print 'Y: {}'.format(Y.shape)\n",
    "# print 'Y sample ', Y[:10]\n",
    "\n",
    "num_samples, H, W, C = X.shape\n",
    "\n",
    "# swap C and H axes --> expected input\n",
    "X = np.swapaxes(X, 1, 3)  # (num_samples, C, W, H)\n",
    "X -= np.mean(X, axis = 0)  # Data Preprocessing: mean subtraction\n",
    "X /= np.std(X, axis = 0)  # Normalization\n",
    "\n",
    "#Splitting into train, val, test sets\n",
    "\n",
    "num_train = int(num_samples * 0.8)\n",
    "num_val = int(num_samples * 0.1)\n",
    "num_test = num_samples - num_train - num_val\n",
    "\n",
    "# print 'num_train: %d, num_val: %d, num_test: %d' % (num_train, num_val, num_test)\n",
    "\n",
    "X_train = X[:num_train]\n",
    "X_val = X[num_train:num_train+num_val]\n",
    "X_test = X[num_train+num_val:]\n",
    "\n",
    "y_train = Y[:num_train]\n",
    "y_val = Y[num_train:num_train+num_val]\n",
    "y_test = Y[num_train+num_val:]\n",
    "\n",
    "print ('X_train', X_train.shape)\n",
    "print ('y_train', y_train.shape)\n",
    "print ('X_val', X_val.shape)\n",
    "print ('y_val', y_val.shape)\n",
    "print ('X_test', X_test.shape)\n",
    "print ('y_test', y_test.shape)\n"
   ]
  },
  {
   "cell_type": "code",
   "execution_count": 21,
   "metadata": {
    "collapsed": false
   },
   "outputs": [
    {
     "name": "stdout",
     "output_type": "stream",
     "text": [
      "Building network...\n",
      "Building a complex CNN...\n",
      "Compiling functions...\n",
      "Using Update: nesterov_momentum\n",
      "Compiling Finished!\n"
     ]
    }
   ],
   "source": [
    "# Create model and compile train and val functions\n",
    "train_fn, val_fn = cnn_model.main_create_model(C, W, H, NUM_CLASSES, cnn_architecture=cnn_architecture, num_filters=num_filters, filter_width=filter_width, pool_width=pool_width, stride=stride_width, pad=padding, hidden_size=hidden_size, dropout=dropout_p, use_optimizer=USE_OPTIMIZER, learning_rate=LEARNING_RATE, momentum=MOMENTUM, beta1=beta1, beta2=beta2, epsilon=epsilon)"
   ]
  },
  {
   "cell_type": "code",
   "execution_count": null,
   "metadata": {
    "collapsed": false,
    "scrolled": false
   },
   "outputs": [
    {
     "name": "stdout",
     "output_type": "stream",
     "text": [
      "Training on: 20 epochs of batch size 500 with num training samples 24000\n",
      "Using optimizer: nesterov_momentum\n",
      "Validation Size: 3000\n",
      "Starting training...\n",
      "Ep 0 \titer 0  \tloss 1.60439, train acc 22.00, val acc 29.20\n",
      "Ep 0 \titer 1  \tloss 1.63150, train acc 21.60, val acc 25.80\n",
      "Ep 0 \titer 2  \tloss 1.59302, train acc 27.00, val acc 27.60\n",
      "Ep 0 \titer 3  \tloss 1.62152, train acc 23.40, val acc 24.00\n",
      "Ep 0 \titer 4  \tloss 1.61182, train acc 21.00, val acc 27.60\n",
      "Ep 0 \titer 5  \tloss 1.60373, train acc 24.00, val acc 28.00\n",
      "Ep 0 \titer 6  \tloss 1.59763, train acc 26.00, val acc 28.00\n",
      "Ep 0 \titer 7  \tloss 1.58570, train acc 28.00, val acc 27.80\n",
      "Ep 0 \titer 8  \tloss 1.60810, train acc 23.60, val acc 24.20\n",
      "Ep 0 \titer 9  \tloss 1.59504, train acc 27.80, val acc 29.60\n",
      "Ep 0 \titer 10  \tloss 1.58513, train acc 24.00, val acc 26.00\n",
      "Ep 0 \titer 11  \tloss 1.59910, train acc 29.60, val acc 28.80\n",
      "Ep 0 \titer 12  \tloss 1.61308, train acc 24.40, val acc 24.80\n",
      "Ep 0 \titer 13  \tloss 1.60654, train acc 22.20, val acc 26.20\n",
      "Ep 0 \titer 14  \tloss 1.61019, train acc 19.40, val acc 23.00\n",
      "Ep 0 \titer 15  \tloss 1.61951, train acc 16.80, val acc 24.80\n",
      "Ep 0 \titer 16  \tloss 1.60463, train acc 21.20, val acc 25.00\n",
      "Ep 0 \titer 17  \tloss 1.59431, train acc 25.20, val acc 29.20\n",
      "Ep 0 \titer 18  \tloss 1.58340, train acc 26.40, val acc 26.20\n",
      "Ep 0 \titer 19  \tloss 1.60744, train acc 24.20, val acc 24.40\n",
      "Ep 0 \titer 20  \tloss 1.60288, train acc 25.00, val acc 24.80\n",
      "Ep 0 \titer 21  \tloss 1.59623, train acc 22.20, val acc 28.60\n",
      "Ep 0 \titer 22  \tloss 1.60910, train acc 23.60, val acc 25.00\n",
      "Ep 0 \titer 23  \tloss 1.58944, train acc 27.40, val acc 28.80\n",
      "Ep 0 \titer 24  \tloss 1.57376, train acc 29.20, val acc 28.60\n",
      "Ep 0 \titer 25  \tloss 1.59767, train acc 24.60, val acc 24.60\n",
      "Ep 0 \titer 26  \tloss 1.61008, train acc 24.00, val acc 24.40\n",
      "Ep 0 \titer 27  \tloss 1.60231, train acc 23.80, val acc 23.60\n",
      "Ep 0 \titer 28  \tloss 1.58681, train acc 27.40, val acc 27.60\n",
      "Ep 0 \titer 29  \tloss 1.59707, train acc 22.80, val acc 24.00\n",
      "Ep 0 \titer 30  \tloss 1.59565, train acc 24.80, val acc 23.60\n",
      "Ep 0 \titer 31  \tloss 1.58326, train acc 25.20, val acc 27.20\n",
      "Ep 0 \titer 32  \tloss 1.59515, train acc 24.20, val acc 28.40\n",
      "Ep 0 \titer 33  \tloss 1.60547, train acc 25.20, val acc 24.60\n",
      "Ep 0 \titer 34  \tloss 1.60601, train acc 20.80, val acc 20.80\n",
      "Ep 0 \titer 35  \tloss 1.59774, train acc 26.20, val acc 27.20\n",
      "Ep 0 \titer 36  \tloss 1.59048, train acc 27.20, val acc 27.60\n",
      "Ep 0 \titer 37  \tloss 1.59170, train acc 23.80, val acc 25.40\n",
      "Ep 0 \titer 38  \tloss 1.58982, train acc 25.20, val acc 25.80\n",
      "Ep 0 \titer 39  \tloss 1.58230, train acc 28.00, val acc 27.80\n",
      "Ep 0 \titer 40  \tloss 1.61155, train acc 22.60, val acc 23.00\n",
      "Ep 0 \titer 41  \tloss 1.59075, train acc 24.20, val acc 24.60\n",
      "Ep 0 \titer 42  \tloss 1.60004, train acc 25.60, val acc 25.60\n",
      "Ep 0 \titer 43  \tloss 1.60397, train acc 21.60, val acc 22.80\n",
      "Ep 0 \titer 44  \tloss 1.59562, train acc 26.00, val acc 27.20\n",
      "Ep 0 \titer 45  \tloss 1.58831, train acc 28.40, val acc 28.00\n",
      "Ep 0 \titer 46  \tloss 1.59700, train acc 26.20, val acc 27.20"
     ]
    }
   ],
   "source": [
    "# Train the model.\n",
    "train_err_list, train_acc_list, val_err_list, val_acc_list, epochs_train_err_list, epochs_train_acc_list, epochs_val_err_list, epochs_val_acc_list = cnn_model.train(num_epochs, batchsize, num_train, num_val, USE_OPTIMIZER, train_fn, val_fn, X_train, y_train, record_per_iter=record_per_iter)"
   ]
  },
  {
   "cell_type": "code",
   "execution_count": null,
   "metadata": {
    "collapsed": false,
    "scrolled": true
   },
   "outputs": [],
   "source": [
    "# Testing.\n",
    "print('Testing...')\n",
    "test_err = 0\n",
    "test_acc = 0\n",
    "test_batches = 0\n",
    "for batch in data_utils.iterate_minibatches(X_test, y_test, batchsize, shuffle=False):\n",
    "    inputs, targets = batch\n",
    "    err, acc = val_fn(inputs, targets)\n",
    "    test_err += err\n",
    "    test_acc += acc\n",
    "    test_batches += 1\n",
    "    \n",
    "print(\"Final results:\")\n",
    "print(\"  test loss:\\t\\t\\t{:.6f}\".format(test_err / test_batches))\n",
    "print(\"  test accuracy:\\t\\t{:.2f} %\".format(\n",
    "    test_acc / test_batches * 100))"
   ]
  },
  {
   "cell_type": "code",
   "execution_count": null,
   "metadata": {
    "collapsed": false
   },
   "outputs": [],
   "source": [
    "# Visualize the loss and the accuracies for both training and validation sets for each epoch\n",
    "num_train = X_train.shape[0]\n",
    "if record_per_iter:\n",
    "    xlabel = \"iterations\"\n",
    "else:\n",
    "    xlabel = \"epochs\"\n",
    "# Printing training losses and training + validation accuracies\n",
    "data_set_name = DATA_SET + 'batch_' + str(USE_BATCH) + '_' + USE_OPTIMIZER\n",
    "visualize.plot_loss_acc(data_set_name, train_err_list, train_acc_list, val_acc_list, LEARNING_RATE, reg_strength, num_epochs, num_train, xlabel=xlabel)"
   ]
  },
  {
   "cell_type": "code",
   "execution_count": null,
   "metadata": {
    "collapsed": false
   },
   "outputs": [],
   "source": [
    "# Visualize the loss and the accuracies for both training and validation sets for each epoch\n",
    "num_train = X_train.shape[0]\n",
    "xlabel = \"epochs\"\n",
    "# Printing training losses and training + validation accuracies\n",
    "data_set_name = DATA_SET + 'batch_' + str(USE_BATCH) + '_on_epochs' + '_' + USE_OPTIMIZER\n",
    "visualize.plot_loss_acc(data_set_name, epochs_train_err_list, epochs_train_acc_list, epochs_val_acc_list, LEARNING_RATE, reg_strength, num_epochs, num_train, xlabel=xlabel)\n"
   ]
  },
  {
   "cell_type": "code",
   "execution_count": null,
   "metadata": {
    "collapsed": true
   },
   "outputs": [],
   "source": []
  }
 ],
 "metadata": {
  "kernelspec": {
   "display_name": "Python 2",
   "language": "python",
   "name": "python2"
  },
  "language_info": {
   "codemirror_mode": {
    "name": "ipython",
    "version": 2
   },
   "file_extension": ".py",
   "mimetype": "text/x-python",
   "name": "python",
   "nbconvert_exporter": "python",
   "pygments_lexer": "ipython2",
   "version": "2.7.11"
  }
 },
 "nbformat": 4,
 "nbformat_minor": 0
}
