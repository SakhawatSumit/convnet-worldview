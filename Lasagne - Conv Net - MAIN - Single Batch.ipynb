{
 "cells": [
  {
   "cell_type": "markdown",
   "metadata": {
    "collapsed": true
   },
   "source": [
    "# Lasagne Conv Net on Media Eval 2015 Placing Task - Locale"
   ]
  },
  {
   "cell_type": "code",
   "execution_count": 1,
   "metadata": {
    "collapsed": false
   },
   "outputs": [],
   "source": [
    "# Import Python libraries\n",
    "import numpy as np\n",
    "import theano\n",
    "import theano.tensor as Tensor\n",
    "import lasagne\n",
    "import time\n",
    "import cPickle as pickle\n",
    "\n",
    "# allows plots to show inline in ipython notebook\n",
    "%matplotlib inline\n",
    "%load_ext autoreload\n",
    "%autoreload 2"
   ]
  },
  {
   "cell_type": "code",
   "execution_count": 2,
   "metadata": {
    "collapsed": false
   },
   "outputs": [],
   "source": [
    "# Import own modules\n",
    "import data_utils, visualize\n",
    "import lasagne_model_predict_country as cnn_model"
   ]
  },
  {
   "cell_type": "markdown",
   "metadata": {},
   "source": [
    "## Set hyperparameters and Load dataset"
   ]
  },
  {
   "cell_type": "code",
   "execution_count": 3,
   "metadata": {
    "collapsed": false
   },
   "outputs": [],
   "source": [
    "# Model hyperparameters\n",
    "cnn_architecture = \"complex_cnn\"\n",
    "num_filters = 32\n",
    "filter_width = 3 # can be integer or tuple\n",
    "pool_width = 2 \n",
    "stride_width = 1 # can be integer or tuple\n",
    "padding = 'full'  # can be integer or tuple or 'full', 'same', 'valid'\n",
    "hidden_size = 256 # size of hidden layer of neurons\n",
    "dropout_p = 0.5\n",
    "# lr_decay = 0.995\n",
    "reg_strength = 0\n",
    "# grad_clip = 10\n",
    "\n",
    "# Optimization hyperparams\n",
    "# LEARNING_RATE = 1e-2\n",
    "LEARNING_RATE = 0.045\n",
    "\n",
    "USE_OPTIMIZER = \"nesterov_momentum\"\n",
    "# USE_OPTIMIZER = \"adam\"\n",
    "# (1) Nesterov Momentum\n",
    "MOMENTUM = 0.9\n",
    "# (2) Adam\n",
    "beta1=0.9\n",
    "beta2=0.999\n",
    "epsilon=1e-08\n",
    "# Optimizer config\n",
    "theano.config.optimizer='fast_compile'\n",
    "theano.config.exception_verbosity='high'\n",
    "\n",
    "# Training parameters\n",
    "batchsize = 500\n",
    "num_epochs = 20\n",
    "record_per_iter = True  # save train and val loss/accuracy after each batch runthrough"
   ]
  },
  {
   "cell_type": "code",
   "execution_count": 4,
   "metadata": {
    "collapsed": false
   },
   "outputs": [
    {
     "name": "stdout",
     "output_type": "stream",
     "text": [
      "('Data Set:', 'subset_48by32_5')\n",
      "('Num classes:', 5)\n",
      "Batches: 0\n",
      "Preparing Data Set....\n",
      "('X_train', (24000, 3, 48, 32))\n",
      "('y_train', (24000,))\n",
      "('X_val', (3000, 3, 48, 32))\n",
      "('y_val', (3000,))\n",
      "('X_test', (3000, 3, 48, 32))\n",
      "('y_test', (3000,))\n"
     ]
    }
   ],
   "source": [
    "# Load Data Set\n",
    "\n",
    "# DATA_BATCH = '000_small_'\n",
    "# DATA_SIZE = '48by32'\n",
    "# DATA_SET = DATA_BATCH + DATA_SIZE\n",
    "# NUM_CLASSES = 5\n",
    "\n",
    "DATA_SET = 'subset_48by32_5'\n",
    "NUM_CLASSES = 5\n",
    "NUM_BATCHES = 6\n",
    "USE_BATCH = 0\n",
    "\n",
    "print ('Data Set:', DATA_SET)\n",
    "print ('Num classes:', NUM_CLASSES)\n",
    "print ('Batches: {}'.format(USE_BATCH))\n",
    "print ('Preparing Data Set....')\n",
    "\n",
    "X_input_filename = 'data_maps/' + DATA_SET + '/x_input_' + str(USE_BATCH) + '.npy'\n",
    "Y_output_filename = 'data_maps/' + DATA_SET + '/y_labels_' + str(USE_BATCH) + '.npy'\n",
    "\n",
    "X = data_utils.load_npy_file(X_input_filename)\n",
    "Y = data_utils.load_npy_file(Y_output_filename)\n",
    "# print 'X: {}'.format(X.shape)\n",
    "# print 'Y: {}'.format(Y.shape)\n",
    "# print 'Y sample ', Y[:10]\n",
    "\n",
    "num_samples, H, W, C = X.shape\n",
    "\n",
    "# swap C and H axes --> expected input\n",
    "X = np.swapaxes(X, 1, 3)  # (num_samples, C, W, H)\n",
    "X -= np.mean(X, axis = 0)  # Data Preprocessing: mean subtraction\n",
    "X /= np.std(X, axis = 0)  # Normalization\n",
    "\n",
    "#Splitting into train, val, test sets\n",
    "\n",
    "num_train = int(num_samples * 0.8)\n",
    "num_val = int(num_samples * 0.1)\n",
    "num_test = num_samples - num_train - num_val\n",
    "\n",
    "# print 'num_train: %d, num_val: %d, num_test: %d' % (num_train, num_val, num_test)\n",
    "\n",
    "X_train = X[:num_train]\n",
    "X_val = X[num_train:num_train+num_val]\n",
    "X_test = X[num_train+num_val:]\n",
    "\n",
    "y_train = Y[:num_train]\n",
    "y_val = Y[num_train:num_train+num_val]\n",
    "y_test = Y[num_train+num_val:]\n",
    "\n",
    "print ('X_train', X_train.shape)\n",
    "print ('y_train', y_train.shape)\n",
    "print ('X_val', X_val.shape)\n",
    "print ('y_val', y_val.shape)\n",
    "print ('X_test', X_test.shape)\n",
    "print ('y_test', y_test.shape)\n"
   ]
  },
  {
   "cell_type": "markdown",
   "metadata": {},
   "source": [
    "## Build network and train"
   ]
  },
  {
   "cell_type": "code",
   "execution_count": 5,
   "metadata": {
    "collapsed": false
   },
   "outputs": [
    {
     "name": "stdout",
     "output_type": "stream",
     "text": [
      "Building network...\n",
      "Building a complex CNN...\n",
      "Compiling functions...\n",
      "Using Update: nesterov_momentum\n",
      "Compiling Finished!\n"
     ]
    }
   ],
   "source": [
    "# Create model and compile train and val functions\n",
    "train_fn, val_fn, pred_fn, l_out = cnn_model.main_create_model(C, W, H, NUM_CLASSES, cnn_architecture=cnn_architecture, num_filters=num_filters, filter_width=filter_width, pool_width=pool_width, stride=stride_width, pad=padding, hidden_size=hidden_size, dropout=dropout_p, use_optimizer=USE_OPTIMIZER, learning_rate=LEARNING_RATE, momentum=MOMENTUM, beta1=beta1, beta2=beta2, epsilon=epsilon)"
   ]
  },
  {
   "cell_type": "code",
   "execution_count": 16,
   "metadata": {
    "collapsed": false,
    "scrolled": true
   },
   "outputs": [
    {
     "name": "stdout",
     "output_type": "stream",
     "text": [
      "Training on: 20 epochs of batch size 500 with num training samples 24000\n",
      "Using optimizer: nesterov_momentum\n",
      "Validation Size: 3000\n",
      "Starting training...\n",
      "Ep 0 \titer 0  \tloss 1.62056, train acc 23.40, val acc 24.80\n",
      "Ep 0 \titer 1  \tloss 1.61227, train acc 23.60, val acc 25.20\n",
      "Epoch 1 of 20 took 62.402s\n",
      "  training loss:\t\t1.616414\n",
      "  training accuracy:\t\t23.50 %\n",
      "  validation loss:\t\t1.601183\n",
      "  validation accuracy:\t\t25.20 %\n",
      "Training finished!\n",
      "Saving training results to file...\n",
      "Saving results to file finished!\n"
     ]
    }
   ],
   "source": [
    "# Train the model. Save results in file\n",
    "timestr = time.strftime(\"%Y%m%d-%H%M%S\")\n",
    "save_results_to_file = 'results/{}_batch_{}_{}_ep{}_num_train{}_{}.txt'.format(DATA_SET, str(USE_BATCH), USE_OPTIMIZER, num_epochs, num_train, timestr)\n",
    "\n",
    "train_err_list, train_acc_list, val_err_list, val_acc_list, epochs_train_err_list, epochs_train_acc_list, epochs_val_err_list, epochs_val_acc_list = cnn_model.train(num_epochs, batchsize, num_train, num_val, USE_OPTIMIZER, train_fn, val_fn, X_train, y_train, X_val, y_val, record_per_iter=record_per_iter, save_results_to_file=save_results_to_file)"
   ]
  },
  {
   "cell_type": "markdown",
   "metadata": {},
   "source": [
    "## Test and Plot"
   ]
  },
  {
   "cell_type": "code",
   "execution_count": 17,
   "metadata": {
    "collapsed": false,
    "scrolled": true
   },
   "outputs": [
    {
     "name": "stdout",
     "output_type": "stream",
     "text": [
      "Testing...\n",
      "Final results:\n",
      "  test loss:\t\t\t1.602910\n",
      "  test accuracy:\t\t23.47 %\n"
     ]
    }
   ],
   "source": [
    "# Testing.\n",
    "print('Testing...')\n",
    "test_err = 0\n",
    "test_acc = 0\n",
    "test_batches = 0\n",
    "\n",
    "for batch in data_utils.iterate_minibatches(X_test, y_test, batchsize, shuffle=False):\n",
    "    inputs, targets = batch\n",
    "    err, acc = val_fn(inputs, targets)\n",
    "    test_err += err\n",
    "    test_acc += acc\n",
    "    test_batches += 1\n",
    "    \n",
    "print(\"Final results:\")\n",
    "print(\"  test loss:\\t\\t\\t{:.6f}\".format(test_err / test_batches))\n",
    "print(\"  test accuracy:\\t\\t{:.2f} %\".format(\n",
    "    test_acc / test_batches * 100))"
   ]
  },
  {
   "cell_type": "code",
   "execution_count": 34,
   "metadata": {
    "collapsed": false,
    "scrolled": true
   },
   "outputs": [
    {
     "name": "stdout",
     "output_type": "stream",
     "text": [
      "num correct predictions 1\n",
      "num correct predictions 2\n",
      "num correct predictions 3\n",
      "num correct predictions 4\n",
      "num correct predictions 5\n",
      "num correct predictions 6\n",
      "num correct predictions 7\n",
      "num correct predictions 8\n",
      "num correct predictions 9\n",
      "num correct predictions 10\n",
      "**********\n",
      "Correct Set!\n",
      "27023\n",
      "e2126994144bcea81237148571bbb429\n",
      "Predicted:  Spain Correct:  Spain\n",
      "27008\n",
      "e211426d535f3e645bdce7913f47789f\n",
      "Predicted:  Italy Correct:  Italy\n",
      "27043\n",
      "e213a9116eb33dd597a26cefc4cf50\n",
      "Predicted:  Italy Correct:  Italy\n",
      "27032\n",
      "e21341b1b85983e9d22e4624ac8291c7\n",
      "Predicted:  Canada Correct:  Canada\n",
      "27044\n",
      "e213aaf39ae237ba40395aeae2e62ae8\n",
      "Predicted:  Spain Correct:  Spain\n",
      "27031\n",
      "e212fcd9c6a2bb5a3860856ac5e6d8\n",
      "Predicted:  Italy Correct:  Italy\n",
      "27026\n",
      "e21282d67babdfc382e29299b9fca12\n",
      "Predicted:  Spain Correct:  Spain\n",
      "27033\n",
      "e21342ace2a31841952770376dbf4b\n",
      "Predicted:  France Correct:  France\n",
      "27005\n",
      "e210f6905aa2d4631c9850f0a5e435c\n",
      "Predicted:  Italy Correct:  Italy\n",
      "27038\n",
      "e2138364fdc188c3b24eb09da6425236\n",
      "Predicted:  Spain Correct:  Spain\n",
      "**********\n",
      "Wrong Set!\n",
      "27040\n",
      "e213a1ba46658fa563cf09a27e4992\n",
      "Predicted:  France Correct:  Italy\n",
      "27027\n",
      "e212898726beb123c9a11b8dec82e6\n",
      "Predicted:  Germany Correct:  Spain\n",
      "27014\n",
      "e211aaefc2e4f9b2b1e263b9c752f89\n",
      "Predicted:  France Correct:  Germany\n",
      "27007\n",
      "e2113c795691c0d57a3209cdc8a3fa8\n",
      "Predicted:  France Correct:  Italy\n",
      "27042\n",
      "e213a70fbbe575ccfe696e873532e98\n",
      "Predicted:  Italy Correct:  Spain\n",
      "27017\n",
      "e211c28ee78538f92895748e487fb28\n",
      "Predicted:  France Correct:  Spain\n",
      "27000\n",
      "e2109e12f46958a62f6067735fb68\n",
      "Predicted:  Italy Correct:  France\n",
      "27025\n",
      "e2127f3afaab7292bc699113ad60\n",
      "Predicted:  Canada Correct:  Italy\n",
      "27022\n",
      "e2126267be2d9f091d722d7312e5823\n",
      "Predicted:  Spain Correct:  France\n",
      "27034\n",
      "e2134cf97992cba377afeee054525fd5\n",
      "Predicted:  Germany Correct:  Spain\n",
      "27039\n",
      "e21383f2648e88e50ce72c36f861b\n",
      "Predicted:  Spain Correct:  France\n",
      "27020\n",
      "e2124e629442c2c7b7eab974c8ef4a72\n",
      "Predicted:  Italy Correct:  Spain\n",
      "27006\n",
      "e21121c8cbcd94ba41b573158ec83a5\n",
      "Predicted:  Germany Correct:  Canada\n",
      "27011\n",
      "e21166e7384e7cddaccb84719e54e26\n",
      "Predicted:  Italy Correct:  Canada\n",
      "27030\n",
      "e212dcbee8afec91cd7dc33663c16b\n",
      "Predicted:  Germany Correct:  Canada\n",
      "27003\n",
      "e210d0317abf18128a9a25e52c353792\n",
      "Predicted:  France Correct:  Spain\n",
      "27018\n",
      "e2121b1f9d705a6b50826bb47d9cd51\n",
      "Predicted:  Italy Correct:  Canada\n",
      "27035\n",
      "e21369cf4faf4e33625be494e1d99e6c\n",
      "Predicted:  Italy Correct:  Canada\n",
      "27029\n",
      "e212925f7620fc6def68688344f0bb\n",
      "Predicted:  France Correct:  Germany\n",
      "27009\n",
      "e211502db7f31287bee44afe34bc6be\n",
      "Predicted:  France Correct:  Spain\n",
      "27019\n",
      "e21238dd79fabe2ca736d6a3e75473\n",
      "Predicted:  Canada Correct:  France\n",
      "27024\n",
      "e2126a2b3c5f89a43e1299b18339bba\n",
      "Predicted:  Germany Correct:  Spain\n",
      "27036\n",
      "e2137c845f15c4348bd6df1aa6f2b3\n",
      "Predicted:  Germany Correct:  Spain\n",
      "27016\n",
      "e211b4462ce6c53b8172fab6a3534e1f\n",
      "Predicted:  Italy Correct:  France\n",
      "27041\n",
      "e213a5a891682a3e7f4f1e77d0f31c97\n",
      "Predicted:  Spain Correct:  Germany\n",
      "27004\n",
      "e210eef1cd2c93c3b9215a825921e8\n",
      "Predicted:  France Correct:  Germany\n",
      "27002\n",
      "e210c7773da749f097a36edadf7cf49b\n",
      "Predicted:  France Correct:  Spain\n",
      "27021\n",
      "e21254b5558ca963378b171d5b0e073\n",
      "Predicted:  Canada Correct:  Italy\n",
      "27015\n",
      "e211aded84a519f638c29815d54b3a9\n",
      "Predicted:  France Correct:  Italy\n",
      "27013\n",
      "e2118bf377608792faf428a8f8f72ac0\n",
      "Predicted:  Italy Correct:  France\n",
      "27001\n",
      "e210b35b9355bb4c8890fba7f791ca85\n",
      "Predicted:  France Correct:  Italy\n",
      "27012\n",
      "e21186ca27de69b1d692ca91214d6e\n",
      "Predicted:  Germany Correct:  Italy\n",
      "27010\n",
      "e21154cb3108948fa4e9455cdd79983\n",
      "Predicted:  Canada Correct:  France\n",
      "27028\n",
      "e2128f5eec7193a9b6b0d34a3ef59\n",
      "Predicted:  Italy Correct:  France\n",
      "27037\n",
      "e2137ff2c5bb15a9f4ad53f19f5a90e0\n",
      "Predicted:  France Correct:  Canada\n"
     ]
    }
   ],
   "source": [
    "# Sample\n",
    "predictions = pred_fn(X_test)\n",
    "\n",
    "correct_set = set()\n",
    "wrong_set = set()\n",
    "\n",
    "NUM_SAMPLES = 10\n",
    "\n",
    "for index, sample in enumerate(predictions):\n",
    "    predicted_class = np.argmax(sample)\n",
    "    correct_class = y_test[index]\n",
    "#     print 'predicted', predicted_class\n",
    "#     print 'correct', correct_class\n",
    "    if predicted_class == correct_class:\n",
    "        correct_set.add((index, predicted_class, correct_class))\n",
    "        print 'num correct predictions', len(correct_set)\n",
    "    else:\n",
    "        wrong_set.add((index, predicted_class, correct_class))\n",
    "\n",
    "    if len(correct_set) >= NUM_SAMPLES and len(wrong_set) >= NUM_SAMPLES:\n",
    "        break\n",
    "        \n",
    "        \n",
    "map_row_imagename = pickle.load( open ('data_maps/subset_48by32_5/map_row_imagename_0.pickle', 'rb') )\n",
    "map_country_class = pickle.load( open ('data_maps/subset_48by32_5/country_name_class_index_map.pickle', 'rb') )\n",
    "map_class_country = {v:k for k,v in map_country_class.items()}\n",
    "\n",
    "print(\"**********\")\n",
    "print(\"Correct Set!\")\n",
    "for index_in_train, predicted_class, correct_class in correct_set:\n",
    "    row_num = num_train + num_val + index_in_train\n",
    "    print row_num\n",
    "    print map_row_imagename[row_num]\n",
    "    print 'Predicted: ', map_class_country[predicted_class], 'Correct: ', map_class_country[correct_class]\n",
    "    \n",
    "print(\"**********\")\n",
    "print(\"Wrong Set!\")\n",
    "for index_in_train, predicted_class, correct_class in wrong_set:\n",
    "    row_num = num_train + num_val + index_in_train\n",
    "    print row_num\n",
    "    print map_row_imagename[row_num]\n",
    "    print 'Predicted: ', map_class_country[predicted_class], 'Correct: ', map_class_country[correct_class]\n"
   ]
  },
  {
   "cell_type": "code",
   "execution_count": 30,
   "metadata": {
    "collapsed": false
   },
   "outputs": [
    {
     "data": {
      "image/png": "[encoded data removed]",
      "text/plain": [
       "<matplotlib.figure.Figure at 0x15c11ec50>"
      ]
     },
     "metadata": {},
     "output_type": "display_data"
    }
   ],
   "source": [
    "# Visualize the loss and the accuracies for both training and validation sets for each epoch\n",
    "num_train = X_train.shape[0]\n",
    "if record_per_iter:\n",
    "    xlabel = \"iterations\"\n",
    "else:\n",
    "    xlabel = \"epochs\"\n",
    "# Printing training losses and training + validation accuracies\n",
    "data_set_name = DATA_SET + 'batch_' + str(USE_BATCH) + '_' + USE_OPTIMIZER\n",
    "visualize.plot_loss_acc(data_set_name, train_err_list, train_acc_list, val_acc_list, LEARNING_RATE, reg_strength, num_epochs, num_train, xlabel=xlabel)"
   ]
  },
  {
   "cell_type": "code",
   "execution_count": 31,
   "metadata": {
    "collapsed": false
   },
   "outputs": [
    {
     "data": {
      "image/png": "[encoded data removed]",
      "text/plain": [
       "<matplotlib.figure.Figure at 0x15c18fd10>"
      ]
     },
     "metadata": {},
     "output_type": "display_data"
    }
   ],
   "source": [
    "# Visualize the loss and the accuracies for both training and validation sets for each epoch\n",
    "num_train = X_train.shape[0]\n",
    "xlabel = \"epochs\"\n",
    "# Printing training losses and training + validation accuracies\n",
    "data_set_name = DATA_SET + 'batch_' + str(USE_BATCH) + '_on_epochs' + '_' + USE_OPTIMIZER\n",
    "visualize.plot_loss_acc(data_set_name, epochs_train_err_list, epochs_train_acc_list, epochs_val_acc_list, LEARNING_RATE, reg_strength, num_epochs, num_train, xlabel=xlabel)\n"
   ]
  },
  {
   "cell_type": "markdown",
   "metadata": {
    "collapsed": true
   },
   "source": [
    "## Save network weights"
   ]
  },
  {
   "cell_type": "code",
   "execution_count": 32,
   "metadata": {
    "collapsed": false
   },
   "outputs": [],
   "source": [
    "# Store params\n",
    "model_filename = 'model_weights/' + DATA_SET + 'batch_' + str(USE_BATCH) + '_' + USE_OPTIMIZER + '.npz'\n",
    "np.savez(model_filename, lasagne.layers.get_all_param_values(l_out))\n",
    "\n",
    "# To load\n",
    "# with np.load(model_filename) as f:\n",
    "    #     param_values = [f['arr_%d' % i] for i in range(len(f.files))]\n",
    "    # lasagne.layers.set_all_param_values(network, param_values)"
   ]
  },
  {
   "cell_type": "markdown",
   "metadata": {
    "collapsed": true
   },
   "source": [
    "## Save Acc / Err Lists"
   ]
  },
  {
   "cell_type": "code",
   "execution_count": 33,
   "metadata": {
    "collapsed": true
   },
   "outputs": [],
   "source": [
    "pickle_filename = 'loss_acc_values/' + DATA_SET + 'batch_' + str(USE_BATCH) + '_' + USE_OPTIMIZER + '.pickle'\n",
    "pickle.dump( (train_err_list, train_acc_list, val_err_list, val_acc_list), open(pickle_filename, 'wb') )"
   ]
  },
  {
   "cell_type": "code",
   "execution_count": null,
   "metadata": {
    "collapsed": true
   },
   "outputs": [],
   "source": []
  }
 ],
 "metadata": {
  "kernelspec": {
   "display_name": "Python 2",
   "language": "python",
   "name": "python2"
  },
  "language_info": {
   "codemirror_mode": {
    "name": "ipython",
    "version": 2
   },
   "file_extension": ".py",
   "mimetype": "text/x-python",
   "name": "python",
   "nbconvert_exporter": "python",
   "pygments_lexer": "ipython2",
   "version": "2.7.11"
  }
 },
 "nbformat": 4,
 "nbformat_minor": 0
}
