{
 "cells": [
  {
   "cell_type": "markdown",
   "metadata": {},
   "source": [
    "# Conv Net on Media Eval 2015 Placing Task - Locale"
   ]
  },
  {
   "cell_type": "code",
   "execution_count": 3,
   "metadata": {
    "collapsed": false
   },
   "outputs": [
    {
     "name": "stdout",
     "output_type": "stream",
     "text": [
      "run the following from the cs231n directory and try again:\n",
      "python setup.py build_ext --inplace\n",
      "You may also need to restart your iPython kernel\n"
     ]
    }
   ],
   "source": [
    "import numpy as np\n",
    "import matplotlib.pyplot as plt\n",
    "from cs231n.classifiers.cnn import *\n",
    "# from cs231n.data_utils import get_CIFAR10_data\n",
    "from cs231n.gradient_check import eval_numerical_gradient_array, eval_numerical_gradient\n",
    "from cs231n.layers import *\n",
    "from cs231n.fast_layers import *\n",
    "from cs231n.solver import Solver\n",
    "\n",
    "# import own modules\n",
    "import data_utils\n",
    "\n",
    "%matplotlib inline\n",
    "plt.rcParams['figure.figsize'] = (10.0, 8.0) # set default size of plots\n",
    "plt.rcParams['image.interpolation'] = 'nearest'\n",
    "plt.rcParams['image.cmap'] = 'gray'\n",
    "\n",
    "# for auto-reloading external modules\n",
    "# see http://stackoverflow.com/questions/1907993/autoreload-of-modules-in-ipython\n",
    "%load_ext autoreload\n",
    "%autoreload 2"
   ]
  },
  {
   "cell_type": "code",
   "execution_count": 4,
   "metadata": {
    "collapsed": true
   },
   "outputs": [],
   "source": [
    "SMALL_000_DATA_X_FILE = 'data_maps/x_input_000_small.npy'\n",
    "SMALL_000_DATA_Y_FILE = 'data_maps/y_country_name_000_small.npy'"
   ]
  },
  {
   "cell_type": "code",
   "execution_count": 5,
   "metadata": {
    "collapsed": false
   },
   "outputs": [
    {
     "name": "stdout",
     "output_type": "stream",
     "text": [
      "X: (1876, 300, 500, 3)\n",
      "Y: (1876,)\n",
      "Y sample  [0 1 1 2 3 2 4 1 0 2]\n"
     ]
    }
   ],
   "source": [
    "X = data_utils.load_npy_file(SMALL_000_DATA_X_FILE)\n",
    "Y = data_utils.load_npy_file(SMALL_000_DATA_Y_FILE)\n",
    "print 'X: {}'.format(X.shape)\n",
    "print 'Y: {}'.format(Y.shape)\n",
    "print 'Y sample ', Y[:10]"
   ]
  },
  {
   "cell_type": "code",
   "execution_count": 6,
   "metadata": {
    "collapsed": true
   },
   "outputs": [],
   "source": [
    "num_samples, W, H, C = X.shape\n",
    "\n",
    "NUM_CLASSES = 5"
   ]
  },
  {
   "cell_type": "code",
   "execution_count": 7,
   "metadata": {
    "collapsed": false
   },
   "outputs": [
    {
     "name": "stdout",
     "output_type": "stream",
     "text": [
      "num_train 1500, num_val 187, num_test 189\n",
      "X_train (1500, 300, 500, 3), X_val (187, 300, 500, 3), X_test (189, 300, 500, 3)\n",
      "Y_train (1500,), Y_val (187,), Y_test (189,)\n"
     ]
    }
   ],
   "source": [
    "#Splitting into train, val, test sets\n",
    "\n",
    "num_train = int(num_samples * 0.8)\n",
    "num_val = int(num_samples * 0.1)\n",
    "num_test = num_samples - num_train - num_val\n",
    "\n",
    "print 'num_train %d, num_val %d, num_test %d' % (num_train, num_val, num_test)\n",
    "\n",
    "X_train = X[:num_train]\n",
    "X_val = X[num_train:num_train+num_val]\n",
    "X_test = X[num_train+num_val:]\n",
    "\n",
    "Y_train = Y[:num_train]\n",
    "Y_val = Y[num_train:num_train+num_val]\n",
    "Y_test = Y[num_train+num_val:]\n",
    "\n",
    "print 'X_train %s, X_val %s, X_test %s' % (X_train.shape, X_val.shape, X_test.shape)\n",
    "print 'Y_train %s, Y_val %s, Y_test %s' % (Y_train.shape, Y_val.shape, Y_test.shape)\n"
   ]
  },
  {
   "cell_type": "markdown",
   "metadata": {
    "collapsed": true
   },
   "source": [
    "## Overfit Small Data"
   ]
  },
  {
   "cell_type": "code",
   "execution_count": null,
   "metadata": {
    "collapsed": false
   },
   "outputs": [
    {
     "name": "stdout",
     "output_type": "stream",
     "text": [
      "N, W, H, C (50, 300, 500, 3)\n",
      "F, _, HH, WW (32, 3, 7, 7)\n",
      "weights shape = "
     ]
    }
   ],
   "source": [
    "num_train = 100\n",
    "small_data = {\n",
    "  'X_train': X_train[:num_train],\n",
    "  'y_train': Y_train[:num_train],\n",
    "  'X_val': X_val[:num_train],\n",
    "  'y_val': Y_val[:num_train],\n",
    "}\n",
    "\n",
    "model = ThreeLayerConvNet(input_dim = (C, W, H), num_classes = 5, weight_scale=1e-2)\n",
    "\n",
    "solver = Solver(model, small_data,\n",
    "                num_epochs=2, batch_size=50,\n",
    "                update_rule='adam',\n",
    "                optim_config={\n",
    "                  'learning_rate': 1e-5,\n",
    "                },\n",
    "                verbose=True, print_every=1)\n",
    "solver.train()"
   ]
  },
  {
   "cell_type": "code",
   "execution_count": null,
   "metadata": {
    "collapsed": true
   },
   "outputs": [],
   "source": []
  }
 ],
 "metadata": {
  "kernelspec": {
   "display_name": "Python 2",
   "language": "python",
   "name": "python2"
  },
  "language_info": {
   "codemirror_mode": {
    "name": "ipython",
    "version": 2
   },
   "file_extension": ".py",
   "mimetype": "text/x-python",
   "name": "python",
   "nbconvert_exporter": "python",
   "pygments_lexer": "ipython2",
   "version": "2.7.11"
  }
 },
 "nbformat": 4,
 "nbformat_minor": 0
}
