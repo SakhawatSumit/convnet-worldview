{
 "cells": [
  {
   "cell_type": "markdown",
   "metadata": {
    "collapsed": true
   },
   "source": [
    "# Lasagne Conv Net on Media Eval 2015 Placing Task - Locale"
   ]
  },
  {
   "cell_type": "code",
   "execution_count": 1,
   "metadata": {
    "collapsed": false
   },
   "outputs": [],
   "source": [
    "# Import Python libraries\n",
    "import numpy as np\n",
    "import theano\n",
    "import theano.tensor as Tensor\n",
    "import lasagne\n",
    "import time\n",
    "\n",
    "# allows plots to show inline in ipython notebook\n",
    "%matplotlib inline\n",
    "%load_ext autoreload\n",
    "%autoreload 2"
   ]
  },
  {
   "cell_type": "code",
   "execution_count": 2,
   "metadata": {
    "collapsed": false
   },
   "outputs": [],
   "source": [
    "# Import own modules\n",
    "import data_utils, visualize\n",
    "import lasagne_model_predict_country as cnn_model"
   ]
  },
  {
   "cell_type": "code",
   "execution_count": 3,
   "metadata": {
    "collapsed": true
   },
   "outputs": [],
   "source": [
    "# Model hyperparameters\n",
    "cnn_architecture = \"complex_cnn\"\n",
    "num_filters = 32\n",
    "filter_width = 3 # can be integer or tuple\n",
    "pool_width = 2 \n",
    "stride_width = 1 # can be integer or tuple\n",
    "padding = 'full'  # can be integer or tuple or 'full', 'same', 'valid'\n",
    "hidden_size = 256 # size of hidden layer of neurons\n",
    "dropout_p = 0.0\n",
    "# lr_decay = 0.995\n",
    "reg_strength = 0\n",
    "# grad_clip = 10\n",
    "\n",
    "# Optimization hyperparams\n",
    "LEARNING_RATE = 1e-2\n",
    "MOMENTUM = 0.9\n",
    "theano.config.optimizer='fast_compile'\n",
    "theano.config.exception_verbosity='high'\n",
    "\n",
    "# Training parameters\n",
    "batchsize = 500\n",
    "num_epochs = 3\n",
    "record_per_iter = True  # save train and val loss/accuracy after each batch runthrough"
   ]
  },
  {
   "cell_type": "code",
   "execution_count": 4,
   "metadata": {
    "collapsed": false
   },
   "outputs": [
    {
     "name": "stdout",
     "output_type": "stream",
     "text": [
      "('Data Set:', 'subset_48by32_5')\n",
      "('Num classes:', 5)\n",
      "Batches: [0, 1, 2]\n",
      "Preparing Data Set....\n",
      "X: (90000, 32, 48, 3)\n",
      "Y: (90000,)\n",
      "Y sample  [0 1 2 1 0 3 2 2 1 2]\n",
      "('X_train', (72000, 3, 48, 32))\n",
      "('y_train', (72000,))\n",
      "('X_val', (9000, 3, 48, 32))\n",
      "('y_val', (9000,))\n",
      "('X_test', (9000, 3, 48, 32))\n",
      "('y_test', (9000,))\n"
     ]
    }
   ],
   "source": [
    "# Load Data Set\n",
    "\n",
    "# DATA_BATCH = '000_small_'\n",
    "# DATA_SIZE = '48by32'\n",
    "# DATA_SET = DATA_BATCH + DATA_SIZE\n",
    "# NUM_CLASSES = 5\n",
    "\n",
    "DATA_SET = 'subset_48by32_5'\n",
    "NUM_CLASSES = 5\n",
    "NUM_BATCHES = 6\n",
    "USE_BATCH = [0, 1, 2]\n",
    "\n",
    "print ('Data Set:', DATA_SET)\n",
    "print ('Num classes:', NUM_CLASSES)\n",
    "print ('Batches: {}'.format(USE_BATCH))\n",
    "print ('Preparing Data Set....')\n",
    "\n",
    "X = None\n",
    "Y = None\n",
    "\n",
    "for batch_num in USE_BATCH:\n",
    "    X_input_filename = 'data_maps/' + DATA_SET + '/x_input_' + str(batch_num) + '.npy'\n",
    "    Y_output_filename = 'data_maps/' + DATA_SET + '/y_labels_' + str(batch_num) + '.npy'\n",
    "\n",
    "    X_batch = data_utils.load_npy_file(X_input_filename)\n",
    "    Y_batch = data_utils.load_npy_file(Y_output_filename)\n",
    "    \n",
    "    if X is None:\n",
    "        X = X_batch\n",
    "    else:\n",
    "        X = np.vstack((X, X_batch))\n",
    "        \n",
    "    if Y is None:\n",
    "        Y = Y_batch\n",
    "    else:\n",
    "        Y = np.hstack((Y, Y_batch))  # use hstack because 1-d array is represented as a row vector internally\n",
    "    \n",
    "    \n",
    "print 'X: {}'.format(X.shape)\n",
    "print 'Y: {}'.format(Y.shape)\n",
    "print 'Y sample ', Y[:10]\n",
    "\n",
    "num_samples, H, W, C = X.shape\n",
    "\n",
    "# swap C and H axes --> expected input\n",
    "X = np.swapaxes(X, 1, 3)  # (num_samples, C, W, H)\n",
    "X -= np.mean(X, axis = 0)  # Data Preprocessing: mean subtraction\n",
    "X /= np.std(X, axis = 0)  # Normalization\n",
    "\n",
    "#Splitting into train, val, test sets\n",
    "\n",
    "num_train = int(num_samples * 0.8)\n",
    "num_val = int(num_samples * 0.1)\n",
    "num_test = num_samples - num_train - num_val\n",
    "\n",
    "# print 'num_train: %d, num_val: %d, num_test: %d' % (num_train, num_val, num_test)\n",
    "\n",
    "X_train = X[:num_train]\n",
    "X_val = X[num_train:num_train+num_val]\n",
    "X_test = X[num_train+num_val:]\n",
    "\n",
    "y_train = Y[:num_train]\n",
    "y_val = Y[num_train:num_train+num_val]\n",
    "y_test = Y[num_train+num_val:]\n",
    "\n",
    "print ('X_train', X_train.shape)\n",
    "print ('y_train', y_train.shape)\n",
    "print ('X_val', X_val.shape)\n",
    "print ('y_val', y_val.shape)\n",
    "print ('X_test', X_test.shape)\n",
    "print ('y_test', y_test.shape)"
   ]
  },
  {
   "cell_type": "code",
   "execution_count": null,
   "metadata": {
    "collapsed": false
   },
   "outputs": [
    {
     "name": "stdout",
     "output_type": "stream",
     "text": [
      "Building network...\n",
      "Building a complex CNN...\n",
      "Compiling functions...\n",
      "Compiling Finished!\n"
     ]
    }
   ],
   "source": [
    "# Prepare Theano variables for inputs and targets\n",
    "input_var = Tensor.tensor4('inputs')\n",
    "target_var = Tensor.ivector('targets')\n",
    "\n",
    "print('Building network...')\n",
    "\n",
    "# Create neural network model\n",
    "\n",
    "l_in, l_out = cnn_model.build_cnn(C, W, H, NUM_CLASSES, cnn_architecture=cnn_architecture, num_filters=num_filters, filter_width=filter_width, pool_width=pool_width, stride=stride_width, pad=padding, hidden_size=hidden_size, dropout=dropout_p, inputVar = input_var)\n",
    "\n",
    "print('Compiling functions...')\n",
    "\n",
    "# Create a loss expression for training, i.e., a scalar objective we want\n",
    "    # to minimize (for our multi-class problem, it is the cross-entropy loss):\n",
    "prediction = lasagne.layers.get_output(l_out)\n",
    "loss = Tensor.nnet.categorical_crossentropy(prediction, target_var)\n",
    "# loss = lasagne.objectives.categorical_crossentropy(prediction, target_var)\n",
    "loss = loss.mean()\n",
    "acc = Tensor.mean(Tensor.eq(Tensor.argmax(prediction, axis=1), target_var),\n",
    "                  dtype=theano.config.floatX)\n",
    "\n",
    "# Return predictions in a function\n",
    "pred_fn = theano.function([l_in.input_var], prediction)\n",
    "\n",
    " # Create update expressions for training, i.e., how to modify the\n",
    "# parameters at each training step. Here, we'll use Stochastic Gradient\n",
    "# Descent (SGD) with Nesterov momentum, but Lasagne offers plenty more.\n",
    "params = lasagne.layers.get_all_params(l_out, trainable=True)\n",
    "updates = lasagne.updates.nesterov_momentum(\n",
    "        loss, params, learning_rate=LEARNING_RATE, momentum=MOMENTUM)\n",
    "\n",
    "\n",
    "# Create a loss expression for validation/testing. The crucial difference\n",
    "# here is that we do a deterministic forward pass through the network,\n",
    "# disabling dropout layers.\n",
    "test_prediction = lasagne.layers.get_output(l_out, deterministic=True)\n",
    "# test_loss = lasagne.objectives.categorical_crossentropy(test_prediction, target_var)\n",
    "test_loss = Tensor.nnet.categorical_crossentropy(test_prediction, target_var)\n",
    "\n",
    "test_loss = test_loss.mean()\n",
    "# As a bonus, also create an expression for the classification accuracy:\n",
    "test_acc = Tensor.mean(Tensor.eq(Tensor.argmax(test_prediction, axis=1), target_var),\n",
    "                  dtype=theano.config.floatX)\n",
    "\n",
    " # Compile a function performing a training step on a mini-batch (by giving\n",
    "# the updates dictionary) and returning the corresponding training loss:\n",
    "train_fn = theano.function([input_var, target_var], [loss, acc], updates=updates)\n",
    "# train_fn = theano.function([input_var, target_var], loss, updates=updates)\n",
    "\n",
    "# Compile a second function computing the validation loss and accuracy:\n",
    "val_fn = theano.function([input_var, target_var], [test_loss, test_acc])\n",
    "\n",
    "print('Compiling Finished!')"
   ]
  },
  {
   "cell_type": "code",
   "execution_count": null,
   "metadata": {
    "collapsed": false,
    "scrolled": true
   },
   "outputs": [
    {
     "name": "stdout",
     "output_type": "stream",
     "text": [
      "Training on: 3 epochs of batch size 500 with num training samples 72000\n",
      "Validation Size: 9000\n",
      "Starting training...\n",
      "Ep 0 \titer 0  \tloss 1.63537, train acc 20.00, val acc 25.60\n",
      "Ep 0 \titer 1  \tloss 1.63000, train acc 20.80, val acc 22.40\n",
      "Ep 0 \titer 2  \tloss 1.61996, train acc 22.00, val acc 24.80\n",
      "Ep 0 \titer 3  \tloss 1.61148, train acc 23.00, val acc 27.00\n",
      "Ep 0 \titer 4  \tloss 1.59327, train acc 26.80, val acc 30.60\n",
      "Ep 0 \titer 5  \tloss 1.61232, train acc 22.40, val acc 25.60\n",
      "Ep 0 \titer 6  \tloss 1.60275, train acc 21.00, val acc 25.80\n",
      "Ep 0 \titer 7  \tloss 1.60363, train acc 24.80, val acc 25.40\n",
      "Ep 0 \titer 8  \tloss 1.64171, train acc 20.00, val acc 21.80"
     ]
    }
   ],
   "source": [
    "# Finally, launch the training loop.\n",
    "print ( 'Training on: {} epochs of batch size {} with num training samples {}'.format(num_epochs,batchsize,num_train) )\n",
    "print (\"Validation Size: {}\".format(num_val) )\n",
    "print(\"Starting training...\")\n",
    "# We iterate over epochs:\n",
    "train_err_list = []\n",
    "val_err_list = []\n",
    "train_acc_list = []\n",
    "val_acc_list = []\n",
    "for epoch in range(num_epochs):\n",
    "    # 1) In each epoch, we do a full pass over the training data:\n",
    "    train_err = 0\n",
    "    train_acc = 0\n",
    "    train_batches = 0\n",
    "    start_time = time.time()\n",
    "    \n",
    "    # Each batch is 1 iteration\n",
    "    num_iters = 0\n",
    "    for batch in data_utils.iterate_minibatches(X_train, y_train, batchsize, shuffle=True):\n",
    "        # For testing, limit num iterations\n",
    "#         if num_iters >= 2:\n",
    "#             break\n",
    "        inputs, targets = batch\n",
    "        iter_train_err, iter_train_acc = train_fn(inputs, targets)\n",
    "#         prediction = pred_fn(inputs)\n",
    "        train_err += iter_train_err\n",
    "        train_acc += iter_train_acc\n",
    "        train_batches += 1\n",
    "        \n",
    "        # Run validation on entire data set after each iteration, not iterating over mini batches of \n",
    "        \n",
    "        val_err, val_acc = val_fn(inputs, targets)\n",
    "        \n",
    "        if record_per_iter:\n",
    "            train_err_list.append(iter_train_err)\n",
    "            train_acc_list.append(iter_train_acc)\n",
    "            val_err_list.append(val_err)\n",
    "            val_acc_list.append(val_acc)\n",
    "        \n",
    "        print(\"Ep {} \\titer {}  \\tloss {:.5f}, train acc {:.2f}, val acc {:.2f}\".format(epoch, num_iters, float(iter_train_err), iter_train_acc * 100, val_acc *100 ))\n",
    "        num_iters += 1\n",
    "    \n",
    "    # Then we print the results for this epoch:\n",
    "    \n",
    "    epoch_train_err = train_err / train_batches\n",
    "    epoch_train_acc = train_acc / train_batches * 100\n",
    "    epoch_val_err = val_err / 1\n",
    "    epoch_val_acc = val_acc / 1 * 100\n",
    "    \n",
    "    print(\"Epoch {} of {} took {:.3f}s\".format(\n",
    "        epoch + 1, num_epochs, time.time() - start_time))\n",
    "    print(\"  training loss:\\t\\t{:.6f}\".format(epoch_train_err))\n",
    "    print(\"  training accuracy:\\t\\t{:.2f} %\".format(epoch_train_acc))\n",
    "    print(\"  validation loss:\\t\\t{:.6f}\".format(epoch_val_err))\n",
    "    print(\"  validation accuracy:\\t\\t{:.2f} %\".format(epoch_val_acc))\n",
    "    \n",
    "    if not record_per_iter:\n",
    "        train_err_list.append(epoch_train_err)\n",
    "        train_acc_list.append(epoch_train_acc)\n",
    "        val_err_list.append(epoch_val_err)\n",
    "        val_acc_list.append(epoch_val_acc)\n",
    "\n",
    "print('Training finished!')"
   ]
  },
  {
   "cell_type": "code",
   "execution_count": null,
   "metadata": {
    "collapsed": false
   },
   "outputs": [],
   "source": [
    "# After training, we compute and print the test error:\n",
    "print (\"Test Size: {}\".format(num_test) )\n",
    "print('Testing...')\n",
    "test_err = 0\n",
    "test_acc = 0\n",
    "test_batches = 0\n",
    "for batch in data_utils.iterate_minibatches(X_test, y_test, batchsize, shuffle=False):\n",
    "    inputs, targets = batch\n",
    "    err, acc = val_fn(inputs, targets)\n",
    "    test_err += err\n",
    "    test_acc += acc\n",
    "    test_batches += 1\n",
    "    \n",
    "print(\"Final results:\")\n",
    "print(\"  test loss:\\t\\t\\t{:.6f}\".format(test_err / test_batches))\n",
    "print(\"  test accuracy:\\t\\t{:.2f} %\".format(\n",
    "    test_acc / test_batches * 100))"
   ]
  },
  {
   "cell_type": "code",
   "execution_count": null,
   "metadata": {
    "collapsed": false
   },
   "outputs": [],
   "source": [
    "# Visualize the loss and the accuracies for both training and validation sets for each epoch\n",
    "num_train = X_train.shape[0]\n",
    "if record_per_iter:\n",
    "    xlabel = \"iterations\"\n",
    "else:\n",
    "    xlabel = \"epochs\"\n",
    "# Printing training losses and training + validation accuracies\n",
    "data_set_name = DATA_SET + 'batch'\n",
    "for batch_num in USE_BATCH:\n",
    "    data_set_name += \"_\"\n",
    "    data_set_name += str(batch_num)\n",
    "visualize.plot_loss_acc(data_set_name, train_err_list, train_acc_list, val_acc_list, LEARNING_RATE, reg_strength, num_epochs, num_train, xlabel=xlabel)"
   ]
  },
  {
   "cell_type": "code",
   "execution_count": null,
   "metadata": {
    "collapsed": true
   },
   "outputs": [],
   "source": []
  }
 ],
 "metadata": {
  "kernelspec": {
   "display_name": "Python 2",
   "language": "python",
   "name": "python2"
  },
  "language_info": {
   "codemirror_mode": {
    "name": "ipython",
    "version": 2
   },
   "file_extension": ".py",
   "mimetype": "text/x-python",
   "name": "python",
   "nbconvert_exporter": "python",
   "pygments_lexer": "ipython2",
   "version": "2.7.11"
  }
 },
 "nbformat": 4,
 "nbformat_minor": 0
}
